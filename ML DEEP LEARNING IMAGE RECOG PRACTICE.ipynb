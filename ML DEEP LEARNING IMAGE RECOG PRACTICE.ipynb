{
 "cells": [
  {
   "cell_type": "markdown",
   "metadata": {},
   "source": [
    "# Use deep learning for image classification\n",
    "\n",
    "This Python notebook shows you how to use [deep learning](https://en.wikipedia.org/wiki/Deep_learning) to build a classification model that maps images of single digit numbers to their corresponding numeric representations.\n",
    "\n",
    "This notebook is adapted from the deep learning tutorial that describes the important deep learning concepts and includes code snippets at http://www.pyimagesearch.com/2014/09/22/getting-started-deep-learning-python/.\n",
    "\n",
    "This notebook runs on Python 2 with Spark 2.0.\n",
    "\n",
    "\n",
    "## Table of contents\n",
    "\n",
    "1. [Load libraries](#load_libraries)\n",
    "1. [Access data](#access_data)\n",
    "1. [Train the pattern recognition model](#train_model)\n",
    "1. [Summary](#summary)\n"
   ]
  },
  {
   "cell_type": "markdown",
   "metadata": {
    "collapsed": true
   },
   "source": [
    "<img src=\"https://www.wolfram.com/mathematica/new-in-10/enhanced-image-processing/HTMLImages.en/handwritten-digits-classification/smallthumb_10.gif\" alt=\"Images of numbers to numeric representation\" title=\"Title text\" />"
   ]
  },
  {
   "cell_type": "markdown",
   "metadata": {},
   "source": [
    "<a id=\"load_libraries\"></a>\n",
    "## Load libraries\n",
    "\n",
    "If you haven't already installed it, run the following cell to install the `nolearn` deep learning Python library in your notebook environment. Then, import the the libraries that you will be using for this notebook."
   ]
  },
  {
   "cell_type": "code",
   "execution_count": 1,
   "metadata": {},
   "outputs": [
    {
     "name": "stdout",
     "output_type": "stream",
     "text": [
      "Collecting nolearn\n",
      "  Downloading nolearn-0.6.0.tar.gz (320kB)\n",
      "\u001b[K    100% |████████████████████████████████| 327kB 2.9MB/s eta 0:00:01\n",
      "\u001b[?25hCollecting gdbn (from nolearn)\n",
      "  Downloading gdbn-0.1.tar.gz\n",
      "Collecting joblib (from nolearn)\n",
      "  Downloading joblib-0.11-py2.py3-none-any.whl (176kB)\n",
      "\u001b[K    100% |████████████████████████████████| 184kB 5.2MB/s eta 0:00:01\n",
      "\u001b[?25hRequirement already satisfied: scikit-learn in /usr/local/src/bluemix_jupyter_bundle.v57/notebook/lib/python2.7/site-packages (from nolearn)\n",
      "Collecting tabulate (from nolearn)\n",
      "  Downloading tabulate-0.7.7-py2.py3-none-any.whl\n",
      "Requirement already satisfied: Lasagne in /usr/local/src/bluemix_jupyter_bundle.v57/notebook/lib/python2.7/site-packages (from nolearn)\n",
      "Requirement already satisfied: Theano in /usr/local/src/bluemix_jupyter_bundle.v57/notebook/lib/python2.7/site-packages (from nolearn)\n",
      "Collecting gnumpy (from gdbn->nolearn)\n",
      "  Downloading gnumpy-0.2.tar.gz\n",
      "Requirement already satisfied: numpy in /usr/local/src/bluemix_jupyter_bundle.v57/notebook/lib/python2.7/site-packages (from Lasagne->nolearn)\n",
      "Requirement already satisfied: scipy>=0.11 in /usr/local/src/bluemix_jupyter_bundle.v57/notebook/lib/python2.7/site-packages (from Theano->nolearn)\n",
      "Requirement already satisfied: six>=1.9.0 in /usr/local/src/bluemix_jupyter_bundle.v57/notebook/lib/python2.7/site-packages (from Theano->nolearn)\n",
      "Building wheels for collected packages: nolearn, gdbn, gnumpy\n",
      "  Running setup.py bdist_wheel for nolearn ... \u001b[?25ldone\n",
      "\u001b[?25h  Stored in directory: /gpfs/fs01/user/scc8-d44aeb3f7d9dd3-674d31d66b72/.cache/pip/wheels/5e/58/0f/95e3ffb0cbc917c83d45607d5e51cd736aa3e8296ae2fbc645\n",
      "  Running setup.py bdist_wheel for gdbn ... \u001b[?25ldone\n",
      "\u001b[?25h  Stored in directory: /gpfs/fs01/user/scc8-d44aeb3f7d9dd3-674d31d66b72/.cache/pip/wheels/4d/53/3d/5720988c4fef49f038c8f6050c320ef7695c7c43ece13a13a0\n",
      "  Running setup.py bdist_wheel for gnumpy ... \u001b[?25ldone\n",
      "\u001b[?25h  Stored in directory: /gpfs/fs01/user/scc8-d44aeb3f7d9dd3-674d31d66b72/.cache/pip/wheels/7c/65/e8/237be4a7257f1dad037a7937337010da88d1e1dd55eb212242\n",
      "Successfully built nolearn gdbn gnumpy\n",
      "Installing collected packages: gnumpy, gdbn, joblib, tabulate, nolearn\n",
      "Successfully installed gdbn-0.1 gnumpy-0.2 joblib-0.11 nolearn-0.6.0 tabulate-0.7.7\n"
     ]
    }
   ],
   "source": [
    "!pip install --user nolearn"
   ]
  },
  {
   "cell_type": "code",
   "execution_count": 2,
   "metadata": {},
   "outputs": [
    {
     "name": "stdout",
     "output_type": "stream",
     "text": [
      "gnumpy: failed to import cudamat. Using npmat instead. No GPU will be used.\n"
     ]
    }
   ],
   "source": [
    "import warnings\n",
    "warnings.filterwarnings(\"ignore\")\n",
    "from sklearn.cross_validation import train_test_split\n",
    "from sklearn.metrics import classification_report\n",
    "from sklearn import datasets\n",
    "from nolearn.dbn import DBN\n",
    "import numpy as np\n",
    "import matplotlib.pyplot as plt\n",
    "import matplotlib.image as mpimg\n",
    "%matplotlib inline"
   ]
  },
  {
   "cell_type": "markdown",
   "metadata": {},
   "source": [
    "<a id=\"access_data\"></a>\n",
    "## Access data\n",
    "\n",
    "MNIST is a database of handwritten numbers. Because it uses real-world data, it is an ideal database for training neural networks and machine learning tools that use pattern recognition.\n",
    "\n",
    "Run the following cell to get the MNIST data set of images of handwritten numbers:"
   ]
  },
  {
   "cell_type": "code",
   "execution_count": 3,
   "metadata": {
    "scrolled": false
   },
   "outputs": [
    {
     "name": "stdout",
     "output_type": "stream",
     "text": [
      "Successfully downloaded train-images-idx3-ubyte.gz 9912422 bytes.\n",
      "Extracting MNIST_data/train-images-idx3-ubyte.gz\n",
      "Successfully downloaded train-labels-idx1-ubyte.gz 28881 bytes.\n",
      "Extracting MNIST_data/train-labels-idx1-ubyte.gz\n",
      "Successfully downloaded t10k-images-idx3-ubyte.gz 1648877 bytes.\n",
      "Extracting MNIST_data/t10k-images-idx3-ubyte.gz\n",
      "Successfully downloaded t10k-labels-idx1-ubyte.gz 4542 bytes.\n",
      "Extracting MNIST_data/t10k-labels-idx1-ubyte.gz\n"
     ]
    }
   ],
   "source": [
    "from tensorflow.examples.tutorials.mnist import input_data\n",
    "mnist = input_data.read_data_sets(\"MNIST_data/\")"
   ]
  },
  {
   "cell_type": "code",
   "execution_count": 4,
   "metadata": {},
   "outputs": [],
   "source": [
    "mnist_images = mnist.train.images\n",
    "mnist_labels = mnist.train.labels"
   ]
  },
  {
   "cell_type": "markdown",
   "metadata": {},
   "source": [
    "Then split the images into training and testing data sets:"
   ]
  },
  {
   "cell_type": "code",
   "execution_count": 12,
   "metadata": {
    "scrolled": true
   },
   "outputs": [
    {
     "name": "stdout",
     "output_type": "stream",
     "text": [
      "Number of images for training: 41250\n",
      "Number of images used for testing: 41250\n",
      "Each image is: 28 by 28 pixels\n"
     ]
    }
   ],
   "source": [
    "trX, teX, trY, teY = train_test_split(mnist_images, mnist_labels.astype(\"int0\"), test_size = 0.25)\n",
    "print \"Number of images for training:\", trX.shape[0]\n",
    "print \"Number of images used for testing:\", trY.shape[0]\n",
    "pix = int(np.sqrt(teX.shape[1]))\n",
    "print \"Each image is:\", pix, \"by\", pix, \"pixels\""
   ]
  },
  {
   "cell_type": "markdown",
   "metadata": {},
   "source": [
    "<a id=\"train_model\"></a>\n",
    "## Train the pattern recognition model\n",
    "\n",
    "This notebook shows you how to train a pattern recognition model for handwritten numbers by using the Deep Belief Network (DBN) solver.\n",
    "The DBN solver is trained on approximately 47,000 images each with 784 pixels (28 by 28 before vectorizing) and uses 300 hidden units to support more efficient learning rates. The ten output units correspond to each of the single digit numbers (0 - 9). The results of the learning algorithms have an accuracy of 98 percent.\n",
    "\n",
    "Run the following cell to train the DBN on handwritten digits. For details on the parameters used in the function, see  http://www.pyimagesearch.com/2014/09/22/getting-started-deep-learning-python/.\n"
   ]
  },
  {
   "cell_type": "code",
   "execution_count": 13,
   "metadata": {},
   "outputs": [
    {
     "name": "stderr",
     "output_type": "stream",
     "text": [
      "2%\r"
     ]
    },
    {
     "name": "stdout",
     "output_type": "stream",
     "text": [
      "[DBN] fitting X.shape=(41250, 784)\n",
      "[DBN] layers [784, 300, 10]\n",
      "[DBN] Fine-tune...\n"
     ]
    },
    {
     "name": "stderr",
     "output_type": "stream",
     "text": [
      "100%\n",
      "1%\r"
     ]
    },
    {
     "name": "stdout",
     "output_type": "stream",
     "text": [
      "Epoch 1:\n",
      "  loss 2.30973410273\n",
      "  err  0.898340450311\n",
      "  (0:00:07)\n"
     ]
    },
    {
     "name": "stderr",
     "output_type": "stream",
     "text": [
      "100%\n",
      "2%\r"
     ]
    },
    {
     "name": "stdout",
     "output_type": "stream",
     "text": [
      "Epoch 2:\n",
      "  loss 2.30331721698\n",
      "  err  0.900524068323\n",
      "  (0:00:07)\n"
     ]
    },
    {
     "name": "stderr",
     "output_type": "stream",
     "text": [
      "100%\n",
      "2%\r"
     ]
    },
    {
     "name": "stdout",
     "output_type": "stream",
     "text": [
      "Epoch 3:\n",
      "  loss 2.30311654925\n",
      "  err  0.901033579193\n",
      "  (0:00:08)\n"
     ]
    },
    {
     "name": "stderr",
     "output_type": "stream",
     "text": [
      "100%\n",
      "2%\r"
     ]
    },
    {
     "name": "stdout",
     "output_type": "stream",
     "text": [
      "Epoch 4:\n",
      "  loss 2.30294708732\n",
      "  err  0.901348990683\n",
      "  (0:00:07)\n"
     ]
    },
    {
     "name": "stderr",
     "output_type": "stream",
     "text": [
      "100%\n",
      "2%\r"
     ]
    },
    {
     "name": "stdout",
     "output_type": "stream",
     "text": [
      "Epoch 5:\n",
      "  loss 2.30294650312\n",
      "  err  0.900281444099\n",
      "  (0:00:08)\n"
     ]
    },
    {
     "name": "stderr",
     "output_type": "stream",
     "text": [
      "100%\n",
      "2%\r"
     ]
    },
    {
     "name": "stdout",
     "output_type": "stream",
     "text": [
      "Epoch 6:\n",
      "  loss 2.30293898405\n",
      "  err  0.899917507764\n",
      "  (0:00:07)\n"
     ]
    },
    {
     "name": "stderr",
     "output_type": "stream",
     "text": [
      "100%\n"
     ]
    },
    {
     "name": "stdout",
     "output_type": "stream",
     "text": [
      "Epoch 7:\n",
      "  loss 2.30290947901\n",
      "  err  0.903532608696\n",
      "  (0:00:07)\n"
     ]
    },
    {
     "name": "stderr",
     "output_type": "stream",
     "text": [
      "100%\n",
      "2%\r"
     ]
    },
    {
     "name": "stdout",
     "output_type": "stream",
     "text": [
      "Epoch 8:\n",
      "  loss 2.30285159883\n",
      "  err  0.902416537267\n",
      "  (0:00:07)\n"
     ]
    },
    {
     "name": "stderr",
     "output_type": "stream",
     "text": [
      "100%\n",
      "2%\r"
     ]
    },
    {
     "name": "stdout",
     "output_type": "stream",
     "text": [
      "Epoch 9:\n",
      "  loss 2.30281561354\n",
      "  err  0.898461762422\n",
      "  (0:00:08)\n"
     ]
    },
    {
     "name": "stderr",
     "output_type": "stream",
     "text": [
      "100%\n"
     ]
    },
    {
     "name": "stdout",
     "output_type": "stream",
     "text": [
      "Epoch 10:\n",
      "  loss 2.30280372889\n",
      "  err  0.901373253106\n",
      "  (0:00:07)\n"
     ]
    }
   ],
   "source": [
    "dbn = DBN(\n",
    "    [trX.shape[1], 300, 10], \n",
    "    learn_rates = 0.3,\n",
    "    learn_rate_decays = 0.9,\n",
    "    epochs = 10, \n",
    "    verbose = 1) # set verbose to 0 for not printing output\n",
    "dbn.fit(trX, trY)"
   ]
  },
  {
   "cell_type": "markdown",
   "metadata": {
    "collapsed": true
   },
   "source": [
    "Then evaluate the the quality of the predictions for each digit:"
   ]
  },
  {
   "cell_type": "code",
   "execution_count": 14,
   "metadata": {},
   "outputs": [
    {
     "name": "stdout",
     "output_type": "stream",
     "text": [
      "             precision    recall  f1-score   support\n",
      "\n",
      "          0       0.00      0.00      0.00      1336\n",
      "          1       0.08      0.00      0.00      1605\n",
      "          2       0.00      0.00      0.00      1397\n",
      "          3       0.10      1.00      0.18      1387\n",
      "          4       0.00      0.00      0.00      1290\n",
      "          5       0.00      0.00      0.00      1276\n",
      "          6       0.00      0.00      0.00      1320\n",
      "          7       0.00      0.00      0.00      1434\n",
      "          8       0.00      0.00      0.00      1323\n",
      "          9       0.00      0.00      0.00      1382\n",
      "\n",
      "avg / total       0.02      0.10      0.02     13750\n",
      "\n"
     ]
    }
   ],
   "source": [
    "preds = dbn.predict(teX)\n",
    "print classification_report(teY, preds)"
   ]
  },
  {
   "cell_type": "markdown",
   "metadata": {},
   "source": [
    "Define a function that randomly selects a few of the test images and their predictions:"
   ]
  },
  {
   "cell_type": "code",
   "execution_count": 9,
   "metadata": {},
   "outputs": [
    {
     "name": "stdout",
     "output_type": "stream",
     "text": [
      "Actual digit is 1 predicted 2\n"
     ]
    },
    {
     "data": {
      "image/png": "[encoded data removed]",
      "text/plain": [
       "<matplotlib.figure.Figure at 0x7fadd3352310>"
      ]
     },
     "metadata": {},
     "output_type": "display_data"
    }
   ],
   "source": [
    "def randIm():\n",
    "    i = np.random.choice(np.arange(0, len(teY)), size = (1,))\n",
    "    pred = dbn.predict(np.atleast_2d(teX[i]))\n",
    "    image = (teX[i] * 255).reshape((28, 28)).astype(\"uint8\")\n",
    "    # show the prediction\n",
    "    print \"Actual digit is\", teY[i][0], \"predicted\", pred[0]\n",
    "    imgplot = plt.imshow(image)\n",
    "    imgplot.set_cmap('gray')   \n",
    "\n",
    "randIm() "
   ]
  },
  {
   "cell_type": "markdown",
   "metadata": {},
   "source": [
    "Run this function several times to see randomly picked examples from the test data set:"
   ]
  },
  {
   "cell_type": "code",
   "execution_count": 10,
   "metadata": {},
   "outputs": [
    {
     "name": "stdout",
     "output_type": "stream",
     "text": [
      "Actual digit is 3 predicted 2\n"
     ]
    },
    {
     "data": {
      "image/png": "[encoded data removed]",
      "text/plain": [
       "<matplotlib.figure.Figure at 0x7fad6a5ab050>"
      ]
     },
     "metadata": {},
     "output_type": "display_data"
    }
   ],
   "source": [
    "randIm()"
   ]
  },
  {
   "cell_type": "code",
   "execution_count": 11,
   "metadata": {},
   "outputs": [
    {
     "name": "stdout",
     "output_type": "stream",
     "text": [
      "Actual digit is 7 predicted 2\n"
     ]
    },
    {
     "data": {
      "image/png": "[encoded data removed]",
      "text/plain": [
       "<matplotlib.figure.Figure at 0x7fad369be890>"
      ]
     },
     "metadata": {},
     "output_type": "display_data"
    }
   ],
   "source": [
    "randIm()"
   ]
  },
  {
   "cell_type": "markdown",
   "metadata": {
    "collapsed": true
   },
   "source": [
    "<a id=\"summary\"></a>\n",
    "## Summary\n",
    "\n",
    "In this Python notebook, you learned how to access the MNIST database that contains sample handwritten numbers. You learned to train the DBN solver to recognize handwritten single digit numbers and evaluate the predicted numeric output.\n",
    "\n",
    "## Authors\n",
    "\n",
    "**Jorge Castañón** is a data scientist at IBM Analytics, specializing in machine learning and text analytics using Apache Spark and Hadoop.\n",
    "\n",
    "Some of the code used in this notebook was contributed by **Adrian Rosebrook**, entrepreneur and Chief PyImageSearcher at www.pyimagesearch.com. \n",
    "\n",
    "<hr>\n",
    "Copyright &copy; IBM Corp. 2016. This notebook and its source code are released under the terms of the MIT License.\n"
   ]
  },
  {
   "cell_type": "code",
   "execution_count": null,
   "metadata": {
    "collapsed": true
   },
   "outputs": [],
   "source": []
  }
 ],
 "metadata": {
  "kernelspec": {
   "display_name": "Python 2 with Spark 2.0",
   "language": "python",
   "name": "python2-spark20"
  },
  "language_info": {
   "codemirror_mode": {
    "name": "ipython",
    "version": 2
   },
   "file_extension": ".py",
   "mimetype": "text/x-python",
   "name": "python",
   "nbconvert_exporter": "python",
   "pygments_lexer": "ipython2",
   "version": "2.7.11"
  }
 },
 "nbformat": 4,
 "nbformat_minor": 1
}
