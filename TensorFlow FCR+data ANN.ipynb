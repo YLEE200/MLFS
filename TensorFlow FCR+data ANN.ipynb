{
 "cells": [
  {
   "cell_type": "markdown",
   "metadata": {},
   "source": [
    "# OPM (Other People's Machine) \n",
    "### ...learning libraries\n",
    "\n",
    "Well, it is not about Other People's Money that I am talking about here. There are many open source libraries available, including Deep Learning libraries that you can call in for your rather complex ANN models. Why not we do the OPM for ANN? \n",
    "\n",
    "Welcome to MACHINE LEARNING! Below is a simple introductory example of how easy for you to load your data and run a deep learning technique using TensorFlow."
   ]
  },
  {
   "cell_type": "markdown",
   "metadata": {},
   "source": [
    "## Credit Default Prediction with Deep Learning \n",
    "In this notebook, I used a sample credit card data to predict write-off prediction using TesorFlow-based deep learning technique.  Deep-learning is gaining great momentum these days as those enable users to tackle various modeling challenges that we were not able to easily address such as image recognition.  Yet, there are many applicable techniques for financial services and I hope you can see how easy it is to adopt this deep learning technique for a real business problem."
   ]
  },
  {
   "cell_type": "markdown",
   "metadata": {},
   "source": [
    "## TensorFlow\n",
    "\n",
    "> from [wikipedia](https://en.wikipedia.org/wiki/TensorFlow)\n",
    "\n",
    "TensorFlow™ is an open source software library for numerical computation using data flow graphs. TensorFlow was developed by the Google Brain team for internal Google use. It was released under the Apache 2.0 open source license on 9 November 2015. The name of the library help us understand how we work with it. Basically, tensors are multidimensional arrays that flow through the nodes of a graph.\n",
    "\n",
    "In the data flow graphs, nodes in the graph represent mathematical operations, while the graph edges represent the multidimensional data arrays (tensors) communicated between them. The flexible architecture allows you to deploy computation to one or more CPUs or GPUs in a desktop, server, or mobile device with a single API. TensorFlow was originally developed by researchers and engineers working on the Google Brain Team within Google's Machine Intelligence research organization for the purposes of conducting machine learning and deep neural networks research, but the system is general enough to be applicable in a wide variety of other domains as well.\n",
    "\n",
    "In this notebook, a simple illustrative example of MLP (multi-layer perceptrons) with two hidden layers, which therefore the model estimation is rather simple, is to be modeled via TensorFlow library."
   ]
  },
  {
   "cell_type": "markdown",
   "metadata": {},
   "source": [
    "### Pre-processing & Check the data dimensions\n",
    "Deep learning techniques which are designed to handle computationally expensive algorithms take to the data into numerical dimensions so that the model layers can perform and estimate inputs and outputs.  "
   ]
  },
  {
   "cell_type": "code",
   "execution_count": 1,
   "metadata": {
    "collapsed": true
   },
   "outputs": [],
   "source": [
    "import tensorflow as tf\n",
    "import pandas as pd\n",
    "import numpy as np\n",
    "import itertools"
   ]
  },
  {
   "cell_type": "code",
   "execution_count": 2,
   "metadata": {
    "collapsed": true
   },
   "outputs": [],
   "source": [
    "url = 'https://raw.githubusercontent.com/YLEE200/MLFS/master/testdata/CRPMT_SAMPLE.csv'"
   ]
  },
  {
   "cell_type": "code",
   "execution_count": 3,
   "metadata": {},
   "outputs": [
    {
     "name": "stdout",
     "output_type": "stream",
     "text": [
      "(610, 8)\n",
      "(610,)\n"
     ]
    }
   ],
   "source": [
    "# Read the input data, pre-process and test-check on the dimensions of X and y\n",
    "\n",
    "df = pd.read_csv(url)\n",
    "df['PROD_NO'] = df.PROD.map({'1.REG': 0, '2.GOLD':1, '3.PLAT':2})\n",
    "\n",
    "feature_cols = [          \n",
    "        'CURR_BAL',                                               \n",
    "        'TENURE',                       \n",
    "        'CUST_INC',                      \n",
    "        'CUST_AGE',                                \n",
    "        'PMT_DUE',                                               \n",
    "        'NO_DM_CNT',               \n",
    "        'FICO_SCR',\n",
    "        'PROD_NO'\n",
    "    ]\n",
    "\n",
    "X = df[feature_cols]\n",
    "y = df.WRITE_OFF_IND\n",
    "\n",
    "print (X.shape)\n",
    "print (y.shape)"
   ]
  },
  {
   "cell_type": "code",
   "execution_count": 4,
   "metadata": {},
   "outputs": [
    {
     "data": {
      "text/html": [
       "<div>\n",
       "<table border=\"1\" class=\"dataframe\">\n",
       "  <thead>\n",
       "    <tr style=\"text-align: right;\">\n",
       "      <th></th>\n",
       "      <th>CURR_BAL</th>\n",
       "      <th>TENURE</th>\n",
       "      <th>CUST_INC</th>\n",
       "      <th>CUST_AGE</th>\n",
       "      <th>PMT_DUE</th>\n",
       "      <th>NO_DM_CNT</th>\n",
       "      <th>FICO_SCR</th>\n",
       "      <th>PROD_NO</th>\n",
       "    </tr>\n",
       "  </thead>\n",
       "  <tbody>\n",
       "    <tr>\n",
       "      <th>0</th>\n",
       "      <td>755.16</td>\n",
       "      <td>3.0</td>\n",
       "      <td>44212</td>\n",
       "      <td>46</td>\n",
       "      <td>60.41</td>\n",
       "      <td>5</td>\n",
       "      <td>651</td>\n",
       "      <td>0</td>\n",
       "    </tr>\n",
       "    <tr>\n",
       "      <th>1</th>\n",
       "      <td>276.61</td>\n",
       "      <td>0.7</td>\n",
       "      <td>86249</td>\n",
       "      <td>34</td>\n",
       "      <td>22.13</td>\n",
       "      <td>10</td>\n",
       "      <td>702</td>\n",
       "      <td>0</td>\n",
       "    </tr>\n",
       "    <tr>\n",
       "      <th>2</th>\n",
       "      <td>424.70</td>\n",
       "      <td>0.1</td>\n",
       "      <td>79474</td>\n",
       "      <td>45</td>\n",
       "      <td>21.23</td>\n",
       "      <td>22</td>\n",
       "      <td>753</td>\n",
       "      <td>1</td>\n",
       "    </tr>\n",
       "  </tbody>\n",
       "</table>\n",
       "</div>"
      ],
      "text/plain": [
       "   CURR_BAL  TENURE  CUST_INC  CUST_AGE  PMT_DUE  NO_DM_CNT  FICO_SCR  PROD_NO\n",
       "0    755.16     3.0     44212        46    60.41          5       651        0\n",
       "1    276.61     0.7     86249        34    22.13         10       702        0\n",
       "2    424.70     0.1     79474        45    21.23         22       753        1"
      ]
     },
     "execution_count": 4,
     "metadata": {},
     "output_type": "execute_result"
    }
   ],
   "source": [
    "# to check the model later on\n",
    "X.head(3)"
   ]
  },
  {
   "cell_type": "code",
   "execution_count": 5,
   "metadata": {},
   "outputs": [
    {
     "data": {
      "text/plain": [
       "0    1\n",
       "1    0\n",
       "2    0\n",
       "Name: WRITE_OFF_IND, dtype: int64"
      ]
     },
     "execution_count": 5,
     "metadata": {},
     "output_type": "execute_result"
    }
   ],
   "source": [
    "# to check the model later on\n",
    "y.head(3)"
   ]
  },
  {
   "cell_type": "markdown",
   "metadata": {},
   "source": [
    "### Read and Format the data into dimensional matrices\n",
    "As mentioned above, TensorFlow, just like the other typical neural networks, is taking multi-dimensional data arrays (tensors) that flow through the nodes of a data flow graph.  Hence it is important to define (or set up) the layers (input, hidden and output) with the proper array dimensions.  In this example, we have (610,8) input layer and (610,1) output layer matrices, which will be re-arrayed. "
   ]
  },
  {
   "cell_type": "code",
   "execution_count": 6,
   "metadata": {},
   "outputs": [
    {
     "name": "stdout",
     "output_type": "stream",
     "text": [
      "[[  7.55160000e+02   3.00000000e+00   4.42120000e+04 ...,   5.00000000e+00\n",
      "    6.51000000e+02   0.00000000e+00]\n",
      " [  2.76610000e+02   7.00000000e-01   8.62490000e+04 ...,   1.00000000e+01\n",
      "    7.02000000e+02   0.00000000e+00]\n",
      " [  4.24700000e+02   1.00000000e-01   7.94740000e+04 ...,   2.20000000e+01\n",
      "    7.53000000e+02   1.00000000e+00]\n",
      " ..., \n",
      " [  5.85830000e+02   1.90000000e+00   6.49210000e+04 ...,   4.00000000e+00\n",
      "    6.50000000e+02   0.00000000e+00]\n",
      " [  2.69950000e+02   1.60000000e+00   5.73540000e+04 ...,   1.60000000e+01\n",
      "    7.68000000e+02   1.00000000e+00]\n",
      " [  6.91900000e+02   6.00000000e+00   8.37460000e+04 ...,   6.00000000e+00\n",
      "    6.56000000e+02   0.00000000e+00]]\n",
      "     0  1\n",
      "0    1  0\n",
      "1    0  1\n",
      "2    0  1\n",
      "3    0  1\n",
      "4    1  0\n",
      "5    0  1\n",
      "6    0  1\n",
      "7    0  1\n",
      "8    1  0\n",
      "9    0  1\n",
      "10   1  0\n",
      "11   0  1\n",
      "12   0  1\n",
      "13   1  0\n",
      "14   0  1\n",
      "15   0  1\n",
      "16   1  0\n",
      "17   0  1\n",
      "18   1  0\n",
      "19   0  1\n",
      "20   0  1\n",
      "21   0  1\n",
      "22   0  1\n",
      "23   0  1\n",
      "24   0  1\n",
      "25   0  1\n",
      "26   0  1\n",
      "27   0  1\n",
      "28   0  1\n",
      "29   0  1\n",
      "..  .. ..\n",
      "580  1  0\n",
      "581  0  1\n",
      "582  0  1\n",
      "583  0  1\n",
      "584  0  1\n",
      "585  0  1\n",
      "586  1  0\n",
      "587  0  1\n",
      "588  0  1\n",
      "589  0  1\n",
      "590  0  1\n",
      "591  0  1\n",
      "592  0  1\n",
      "593  0  1\n",
      "594  1  0\n",
      "595  0  1\n",
      "596  0  1\n",
      "597  0  1\n",
      "598  1  0\n",
      "599  0  1\n",
      "600  0  1\n",
      "601  0  1\n",
      "602  0  1\n",
      "603  0  1\n",
      "604  0  1\n",
      "605  0  1\n",
      "606  0  1\n",
      "607  0  1\n",
      "608  0  1\n",
      "609  0  1\n",
      "\n",
      "[610 rows x 2 columns]\n"
     ]
    }
   ],
   "source": [
    "x_labels = np.array(X.values)\n",
    "y_label = y.values\n",
    "\n",
    "y = []\n",
    "value = []\n",
    "for i in y_label:\n",
    "    if i not in value:\n",
    "        value.append(i)\n",
    "\n",
    "for i in y_label:\n",
    "    y.append(value.index(i))\n",
    "\n",
    "y_label = pd.get_dummies(y)\n",
    "\n",
    "print (x_labels)\n",
    "print (y_label)"
   ]
  },
  {
   "cell_type": "markdown",
   "metadata": {},
   "source": [
    "### Model Setup and Execution"
   ]
  },
  {
   "cell_type": "code",
   "execution_count": 7,
   "metadata": {
    "collapsed": true
   },
   "outputs": [],
   "source": [
    "# setting parameters: you could change these based on your data structure\n",
    "\n",
    "n_input = 8 # input features\n",
    "n_hidden_1 = 5 # 1st layer's number of features\n",
    "n_hidden_2 = 3 # 2nd layer's number of features\n",
    "n_classes = 2 # total output classes (0/1 binary array: non write-off vs. write-off)"
   ]
  },
  {
   "cell_type": "code",
   "execution_count": 8,
   "metadata": {
    "collapsed": true
   },
   "outputs": [],
   "source": [
    "# tf Graph set up\n",
    "\n",
    "# creating a palceholder for the holding the input value data that will be fed during runtime \n",
    "# number of rows undefined to get any values, 8 is set for the number of columns\n",
    "X_input = tf.placeholder(tf.float32, [None, n_input])\n",
    "\n",
    "# creating a placeholder for holding the actual y data that will fed during the run time\n",
    "# number of rows undefined to get any values, 2 is set for the number of columns\n",
    "y_output = tf.placeholder(tf.float32, [None, n_classes])"
   ]
  },
  {
   "cell_type": "markdown",
   "metadata": {},
   "source": [
    "### Neural Network Architecture\n",
    "\n",
    "The neural network will have 2 hidden layers (you have to choose how many hidden layers the network will have, is part of the architecture design). The job of each hidden layer is to transform the inputs into something that the output layer can use. Each node (neuron) is multiplied by a weight. Every node has a weight value, and during the training phase the neural network adjusts these values in order to produce a correct output. In addition to multiplying each input node by a weight, the network also adds a bias (role of bias in neural networks).\n",
    "\n",
    "In your architecture after multiplying the inputs by the weights and sum the values to the bias, the data also pass by an activation function. This activation function defines the final output of each node. An analogy: imagine that each node is a lamp, the activation function tells if the lamp will light or not."
   ]
  },
  {
   "cell_type": "markdown",
   "metadata": {},
   "source": [
    "### Background: Weights & Biases\n",
    "\n",
    "In neural networks, it is important to understand weights and biases (not just for the coding purpose).  In a simplest concept, you may want to think about a simple linear function expressed in Y = mX + c, where m is for slope and c is for constant.  Then, simply replace that with Y = wX + b, where w is a matrix of weights and b is a bias. Think of the weights as importance you assign to each feature (row of an input). Bias is independent of features. If the bias for that row (category) is high, then the score for that row will be higher.\n",
    "                    \n",
    "In TensorFlow, the weights are initialized with the tf.random_normal and given their shape of a 2-D tensor with the first dim representing the number of units in the layer from which the weights connect and the second dim representing the number of units in the layer to which the weights connect. The tf.random_normal initializer generates a random distribution with a given mean and standard deviation.  As you see below, the dimensions become reduced as the data/flow progresses. Often the features in the hidden layers are not easily interpretable by humans. \n",
    "\n",
    "This is a type of dimensionality reduction (or a type of feature extraction) as the next layer reduces its dimension from the prior dimensions by taking combinatorial dimensional values.  To simply put, overall neural networks is designed to extract the first layer or input data (a more complex matrix of data) and process to reduce (or extract) the complexity into a simpler output (or a target vector) so that the process is modeled to predict the target value. \n",
    "\n",
    "Then the biases are initialized with tf.zeros to ensure they start with all zero values, and their shape is simply the number of units in the layer to which they connect."
   ]
  },
  {
   "cell_type": "code",
   "execution_count": 9,
   "metadata": {
    "collapsed": true
   },
   "outputs": [],
   "source": [
    "# Setting layers' weights & biases\n",
    "\n",
    "w1 = tf.Variable(tf.random_normal([n_input, n_hidden_1]))\n",
    "w2 = tf.Variable(tf.random_normal([n_hidden_1, n_hidden_2]))\n",
    "out_w =  tf.Variable(tf.random_normal([n_hidden_2, n_classes]))\n",
    " \n",
    "b1 = tf.Variable(tf.zeros([n_hidden_1]))\n",
    "b2 = tf.Variable(tf.zeros([n_hidden_2]))\n",
    "out_b = tf.Variable(tf.zeros([n_classes]))"
   ]
  },
  {
   "cell_type": "markdown",
   "metadata": {},
   "source": [
    "What is ReLU activation?\n",
    "\n",
    "In the context of artificial neural networks, the rectifier is an activation function defined as:\n",
    "\n",
    "f(x) = max (0,x), where x is the input to a neuron. \n",
    "\n",
    "The important thing to note is that it’s non-linear (as opposed to the xW+b part, which is linear.) Why do we need to add non-linearities? Because if not, the entire network could collapse to one layer.\n",
    "\n",
    "Activation just means output. The linear activation in the last layer of this model means ‘return the output without doing anything more (like ReLU) to it’."
   ]
  },
  {
   "cell_type": "code",
   "execution_count": 10,
   "metadata": {
    "collapsed": true
   },
   "outputs": [],
   "source": [
    "# Hidden layer 1 with ReLU activation\n",
    "layer_1 = tf.add(tf.matmul(X_input, w1), b1)\n",
    "layer_1 = tf.nn.relu(layer_1)\n",
    "    \n",
    "# Hidden layer 2 with ReLU activation\n",
    "layer_2 = tf.add(tf.matmul(layer_1, w2), b2)\n",
    "layer_2 = tf.nn.relu(layer_2)\n",
    "    \n",
    "# Output layer with linear activation\n",
    "out_layer = tf.matmul(layer_2, out_w ) + out_b"
   ]
  },
  {
   "cell_type": "code",
   "execution_count": 11,
   "metadata": {
    "collapsed": true
   },
   "outputs": [],
   "source": [
    "losses = tf.losses.mean_squared_error(y_label,out_layer)\n",
    "\n",
    "#optimizer = tf.train.AdamOptimizer(0.001).minimize(losses) #using Adaptive Moment Estimation (Adam)\n",
    "optimizer = tf.train.GradientDescentOptimizer(0.09).minimize(losses) #using Gradient Descent"
   ]
  },
  {
   "cell_type": "code",
   "execution_count": 12,
   "metadata": {
    "scrolled": true
   },
   "outputs": [
    {
     "name": "stdout",
     "output_type": "stream",
     "text": [
      "************************weights before training*********************************\n",
      "                                                                                \n",
      "weight_1: \n",
      "[[-0.43403232 -0.78974926 -0.53027356  1.17884874 -0.45765781]\n",
      " [ 1.93356085 -1.30770206  0.36533719  1.55016792  0.14348972]\n",
      " [ 1.41872084  0.69356853  0.47945198 -0.49755937 -1.86006081]\n",
      " [-0.0317096  -1.97569537  1.72400546 -0.45640346 -0.53806806]\n",
      " [ 1.31733346  1.92505848 -0.68636119 -0.28113285 -0.01865392]\n",
      " [-0.08718616  0.4792974   0.23334475  1.39373982  0.58603817]\n",
      " [ 0.72416657 -1.47377658 -1.02193379 -0.27275428  0.02162397]\n",
      " [ 0.67455178  0.96917379 -1.50712764 -1.64797652 -0.43427885]]\n",
      "weight_2: \n",
      "[[ 2.80119443 -0.04424698  0.26868612]\n",
      " [ 1.24972522 -0.48332715  0.77862352]\n",
      " [ 0.21399362  1.08132446  1.1982981 ]\n",
      " [-0.84377176  1.62300777  1.1831826 ]\n",
      " [-0.63360602  0.5175969   0.59601605]]\n",
      "weight_3: \n",
      "[[ 1.1796602   0.91107237]\n",
      " [-0.09659082  0.66967058]\n",
      " [ 0.1818326  -0.42364338]]\n",
      "-------------------------Training Result------------------------------------------\n",
      "                                                                                 \n",
      "losses after per 10000 iteration:  2.24929e+11\n",
      "losses after per 10000 iteration:  0.128073\n",
      "losses after per 10000 iteration:  0.128073\n",
      "losses after per 10000 iteration:  0.128073\n",
      "losses after per 10000 iteration:  0.128073\n",
      "                                                                                         \n",
      "-------------------------------------Accuracy--------------------------------------------\n",
      "                                                                                         \n",
      "Accuracy on the model:  0.84918\n",
      "***************************** weight after training *************************************\n",
      "weight_1 after trainig: \n",
      "[[ -5.81146944e+08  -2.33375456e+08  -7.47778640e+07   1.17884874e+00\n",
      "   -4.57657814e-01]\n",
      " [ -1.65841775e+06  -6.66118188e+05  -2.13365344e+05   1.55016792e+00\n",
      "    1.43489718e-01]\n",
      " [ -2.32547594e+10  -9.34084403e+09  -2.99178291e+09  -4.97559369e-01\n",
      "   -1.86006081e+00]\n",
      " [ -9.35452100e+06  -3.75735875e+06  -1.20350425e+06  -4.56403464e-01\n",
      "   -5.38068056e-01]\n",
      " [ -3.05185680e+07  -1.22557100e+07  -3.92688450e+06  -2.81132847e-01\n",
      "   -1.86539162e-02]\n",
      " [ -2.44949150e+06  -9.83844812e+05  -3.15144062e+05   1.39373982e+00\n",
      "    5.86038172e-01]\n",
      " [ -1.61739008e+08  -6.49647680e+07  -2.08084760e+07  -2.72754282e-01\n",
      "    2.16239691e-02]\n",
      " [ -2.14760422e+05  -8.62558047e+04  -2.76325645e+04  -1.64797652e+00\n",
      "   -4.34278846e-01]]\n",
      "weight_2 after training: \n",
      "[[ -1.18408540e+10  -2.26532941e+09   6.26528448e+08]\n",
      " [ -5.56805990e+09  -1.06521805e+09   2.94594112e+08]\n",
      " [ -3.84094720e+09  -7.34801664e+08   2.03212848e+08]\n",
      " [ -8.43771756e-01   1.62300777e+00   1.18318260e+00]\n",
      " [ -6.33606017e-01   5.17596900e-01   5.96016049e-01]]\n",
      "weight_3 after training: \n",
      "[[ -2.31039652e+10  -1.50308628e+10]\n",
      " [ -5.29354144e+08  -3.44359136e+08]\n",
      " [  1.10686193e+16   7.20083318e+15]]\n",
      "-------------------------------------Results--------------------------------------------\n",
      "                                                                                         \n",
      "[0.15081975, 0.84918064]\n",
      "WRITE OFF\n"
     ]
    }
   ],
   "source": [
    "# Initiate the session and setting global variables\n",
    "\n",
    "sess = tf.InteractiveSession()\n",
    "init = tf.global_variables_initializer()\n",
    "sess.run(init)\n",
    "print \"************************weights before training*********************************\"\n",
    "print \"                                                                                \"\n",
    "\n",
    "\n",
    "we1,we2,we3 = sess.run([w1,w2,out_w])\n",
    "print \"weight_1: \"\n",
    "print we1\n",
    "print \"weight_2: \"\n",
    "print we2\n",
    "print \"weight_3: \"\n",
    "print we3\n",
    "\n",
    "print \"-------------------------Training Result------------------------------------------\"\n",
    "print \"                                                                                 \"\n",
    "\n",
    "step_size = 10000\n",
    "for step in range(step_size):\n",
    "    \n",
    "    a,b,c,d,e,f,g,h = sess.run([layer_1,layer_2,out_layer,losses,optimizer,w1,w2,out_w], feed_dict={X_input:x_labels, y_output:y_label})\n",
    "\n",
    "    if step%2000==0:\n",
    "        print \"losses after per 10000 iteration: \",d\n",
    "\n",
    "print \"                                                                                         \"       \n",
    "correct_prediction = tf.equal(tf.argmax(out_layer,1), tf.argmax(y_output,1))\n",
    "accuracy = tf.reduce_mean(tf.cast(correct_prediction, tf.float32))\n",
    "print \"-------------------------------------Accuracy--------------------------------------------\"\n",
    "print \"                                                                                         \"\n",
    "\n",
    "print \"Accuracy on the model: \",accuracy.eval(feed_dict={X_input:x_labels, y_output:y_label})\n",
    "\n",
    "#check the model with the first observation\n",
    "check_1 = tf.add(tf.matmul([[755.16, 3, 44212, 46, 60.41, 5, 651, 0]], w1), b1)\n",
    "check_1 = tf.nn.relu(check_1)\n",
    "    \n",
    "check_2 = tf.add(tf.matmul(check_1, w2), b2)\n",
    "check_2 = tf.nn.relu(check_2)\n",
    "\n",
    "output = tf.nn.relu(tf.matmul(check_2, out_w) + out_b)\n",
    "\n",
    "print \"***************************** weight after training *************************************\"\n",
    "print \"weight_1 after trainig: \"\n",
    "print f\n",
    "print \"weight_2 after training: \"\n",
    "print g\n",
    "print \"weight_3 after training: \"\n",
    "print h\n",
    "\n",
    "a,b,c = sess.run([check_1, check_2 ,output])\n",
    "\n",
    "print \"-------------------------------------Results--------------------------------------------\"\n",
    "print \"                                                                                         \"\n",
    "\n",
    "convert_list = list(itertools.chain.from_iterable(c))\n",
    "print convert_list\n",
    "\n",
    "indx = sess.run(tf.argmax(convert_list))\n",
    "\n",
    "if(indx==0):\n",
    "    print \"NO WRITE OFF\"\n",
    "elif(indx==1):\n",
    "    print \"WRITE OFF\"\n",
    "else:\n",
    "    print \"WHAT??\""
   ]
  },
  {
   "cell_type": "markdown",
   "metadata": {},
   "source": [
    "## Summary\n",
    "\n",
    "This illustrative python notebook shows how to get started with basic deep learning utilizing TensorFlow library and MLP technique. I hope you to see how easy to adopt machine learning for your data analytics and modeling needs. "
   ]
  }
 ],
 "metadata": {
  "kernelspec": {
   "display_name": "Python 2 with Spark 1.6 (Unsupported)",
   "language": "python",
   "name": "python2"
  },
  "language_info": {
   "codemirror_mode": {
    "name": "ipython",
    "version": 2
   },
   "file_extension": ".py",
   "mimetype": "text/x-python",
   "name": "python",
   "nbconvert_exporter": "python",
   "pygments_lexer": "ipython2",
   "version": "2.7.11"
  },
  "widgets": {
   "state": {},
   "version": "1.1.2"
  }
 },
 "nbformat": 4,
 "nbformat_minor": 2
}
