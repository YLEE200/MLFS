{
 "cells": [
  {
   "cell_type": "markdown",
   "metadata": {},
   "source": [
    "# SUPERVISED LEARNING - Linear Regression Model\n",
    "Linear regression is a quite popular statistical modeling technique as it is intuitive to understand its concept by showing relationship between attributes.  In spite of its simple concept, the relationship should be carefully considered as it does not necessarily show causality, but rather correlation.  "
   ]
  },
  {
   "cell_type": "markdown",
   "metadata": {},
   "source": [
    "## Data Load & Simple Visualization"
   ]
  },
  {
   "cell_type": "markdown",
   "metadata": {},
   "source": [
    "### To load the data:\n",
    "\n",
    "1. Load the your local file into your notebook. Click the **Find and Add Data** icon on the notebook action bar. Drop the file into the box or browse to select the file. The file is loaded to your object storage and appears in the Data Assets section of the project. For more information, see <a href=\"https://datascience.ibm.com/docs/content/analyze-data/load-and-access-data.html\" target=\"_blank\" rel=\"noopener noreferrer\">Load and access data</a>.\n",
    "1. click in the next code cell and select **Insert to code > pandas DataFrame** under the file name.\n",
    "\n",
    "For this exercise, the above steps were done in advance, and a csv file has been put in this notebook's working directory\n"
   ]
  },
  {
   "cell_type": "code",
   "execution_count": 1,
   "metadata": {},
   "outputs": [
    {
     "data": {
      "text/html": [
       "<div>\n",
       "<table border=\"1\" class=\"dataframe\">\n",
       "  <thead>\n",
       "    <tr style=\"text-align: right;\">\n",
       "      <th></th>\n",
       "      <th>﻿ACCT_NO</th>\n",
       "      <th>PROD</th>\n",
       "      <th>CURR_BAL</th>\n",
       "      <th>TENURE</th>\n",
       "      <th>CUST_INC</th>\n",
       "      <th>CUST_AGE</th>\n",
       "      <th>PMT_DUE</th>\n",
       "      <th>NO_DM_CNT</th>\n",
       "      <th>WRITE_OFF_IND</th>\n",
       "      <th>FICO_SCR</th>\n",
       "    </tr>\n",
       "  </thead>\n",
       "  <tbody>\n",
       "    <tr>\n",
       "      <th>0</th>\n",
       "      <td>1291</td>\n",
       "      <td>1.REG</td>\n",
       "      <td>755.16</td>\n",
       "      <td>3.0</td>\n",
       "      <td>44212</td>\n",
       "      <td>46</td>\n",
       "      <td>60.41</td>\n",
       "      <td>5</td>\n",
       "      <td>1</td>\n",
       "      <td>651</td>\n",
       "    </tr>\n",
       "    <tr>\n",
       "      <th>1</th>\n",
       "      <td>1292</td>\n",
       "      <td>1.REG</td>\n",
       "      <td>276.61</td>\n",
       "      <td>0.7</td>\n",
       "      <td>86249</td>\n",
       "      <td>34</td>\n",
       "      <td>22.13</td>\n",
       "      <td>10</td>\n",
       "      <td>0</td>\n",
       "      <td>702</td>\n",
       "    </tr>\n",
       "    <tr>\n",
       "      <th>2</th>\n",
       "      <td>1293</td>\n",
       "      <td>2.GOLD</td>\n",
       "      <td>424.70</td>\n",
       "      <td>0.1</td>\n",
       "      <td>79474</td>\n",
       "      <td>45</td>\n",
       "      <td>21.23</td>\n",
       "      <td>22</td>\n",
       "      <td>0</td>\n",
       "      <td>753</td>\n",
       "    </tr>\n",
       "    <tr>\n",
       "      <th>3</th>\n",
       "      <td>1294</td>\n",
       "      <td>3.PLAT</td>\n",
       "      <td>11683.23</td>\n",
       "      <td>10.8</td>\n",
       "      <td>81198</td>\n",
       "      <td>58</td>\n",
       "      <td>584.16</td>\n",
       "      <td>22</td>\n",
       "      <td>0</td>\n",
       "      <td>763</td>\n",
       "    </tr>\n",
       "    <tr>\n",
       "      <th>4</th>\n",
       "      <td>1295</td>\n",
       "      <td>1.REG</td>\n",
       "      <td>246.34</td>\n",
       "      <td>5.5</td>\n",
       "      <td>63502</td>\n",
       "      <td>35</td>\n",
       "      <td>19.71</td>\n",
       "      <td>11</td>\n",
       "      <td>1</td>\n",
       "      <td>590</td>\n",
       "    </tr>\n",
       "  </tbody>\n",
       "</table>\n",
       "</div>"
      ],
      "text/plain": [
       "   ﻿ACCT_NO    PROD  CURR_BAL  TENURE  CUST_INC  CUST_AGE  PMT_DUE  NO_DM_CNT  \\\n",
       "0      1291   1.REG    755.16     3.0     44212        46    60.41          5   \n",
       "1      1292   1.REG    276.61     0.7     86249        34    22.13         10   \n",
       "2      1293  2.GOLD    424.70     0.1     79474        45    21.23         22   \n",
       "3      1294  3.PLAT  11683.23    10.8     81198        58   584.16         22   \n",
       "4      1295   1.REG    246.34     5.5     63502        35    19.71         11   \n",
       "\n",
       "   WRITE_OFF_IND  FICO_SCR  \n",
       "0              1       651  \n",
       "1              0       702  \n",
       "2              0       753  \n",
       "3              0       763  \n",
       "4              1       590  "
      ]
     },
     "execution_count": 1,
     "metadata": {},
     "output_type": "execute_result"
    }
   ],
   "source": [
    "from io import StringIO\n",
    "import requests\n",
    "import json\n",
    "import pandas as pd\n",
    "\n",
    "# @hidden_cell\n",
    "# This function accesses a file in your Object Storage. The definition contains your credentials.\n",
    "# You might want to remove those credentials before you share your notebook.\n",
    "\n",
    "def get_object_storage_file_with_credentials_fcf1c90868844bc1ab7d4fffe6063140(container, filename):\n",
    "    \"\"\"This functions returns a StringIO object containing\n",
    "    the file content from Bluemix Object Storage.\"\"\"\n",
    "\n",
    "    url1 = ''.join(['https://identity.open.softlayer.com', '/v3/auth/tokens'])\n",
    "    data = {'auth': {'identity': {'methods': ['password'],\n",
    "            'password': {'user': {'name': 'member_cf2f28cf1cf37485c31a0c2d2443463e000ad9b0','domain': {'id': '20b49a5877434f9486aa2a1d2fcdd21c'},\n",
    "            'password': 'tVP(ZWG8k9J._ZhB'}}}}}\n",
    "    headers1 = {'Content-Type': 'application/json'}\n",
    "    resp1 = requests.post(url=url1, data=json.dumps(data), headers=headers1)\n",
    "    resp1_body = resp1.json()\n",
    "    for e1 in resp1_body['token']['catalog']:\n",
    "        if(e1['type']=='object-store'):\n",
    "            for e2 in e1['endpoints']:\n",
    "                        if(e2['interface']=='public'and e2['region']=='dallas'):\n",
    "                            url2 = ''.join([e2['url'],'/', container, '/', filename])\n",
    "    s_subject_token = resp1.headers['x-subject-token']\n",
    "    headers2 = {'X-Auth-Token': s_subject_token, 'accept': 'application/json'}\n",
    "    resp2 = requests.get(url=url2, headers=headers2)\n",
    "    return StringIO(resp2.text)\n",
    "\n",
    "df = pd.read_csv(get_object_storage_file_with_credentials_fcf1c90868844bc1ab7d4fffe6063140('MachineLearningShowcase', 'CRPMT_SAMPLE.csv'))\n",
    "df.to_csv('CRPMT_SAMPLE.csv', index = False)\n",
    "\n",
    "df.head()\n",
    "#df.describe()"
   ]
  },
  {
   "cell_type": "markdown",
   "metadata": {},
   "source": [
    "## Attributes in the sample file \n",
    "\n",
    "> this is a hypothetical sample file from a credit card company, in which a few attributes are mocked up for the various aspects of credit/payment business such as risk management, contact strategy and CRM\n",
    "\n",
    "1. ACCT_NO: Account Number\n",
    "1. PROD: Product Tier (1.REG: regular, 2.GOLD: gold and 3.PLAT: platinum cards)\n",
    "1. CURR_BAL: Current balance on the account\n",
    "1. TENURE: # of years since the account opened\n",
    "1. CUST_AGE: Customer's age in years\n",
    "1. PMT_DUE: Due amount on current billing cycle\n",
    "1. NO_DM_CNT: # of Direct Mail Contacts for the last 2 years\n",
    "1. WRITE_OFF_IND: Write-Off Indicator (0: Not written-off, 1: Written-Off)\n",
    "1. FICO_SCR: Fair-Issac Score (a credit score that being calculated by US credit bureau such as Experian, Equifax or TransUnion)"
   ]
  },
  {
   "cell_type": "code",
   "execution_count": 2,
   "metadata": {},
   "outputs": [
    {
     "data": {
      "image/png": "[encoded data removed]",
      "text/plain": [
       "<matplotlib.figure.Figure at 0x7fa5d0169fd0>"
      ]
     },
     "metadata": {},
     "output_type": "display_data"
    }
   ],
   "source": [
    "# import Matplotlib (scientific plotting library)\n",
    "import matplotlib.pyplot as plt\n",
    "\n",
    "# allow plots to appear within the notebook\n",
    "%matplotlib inline\n",
    "\n",
    "# Plot true values versus the predictions\n",
    "plt.scatter(df.NO_DM_CNT, df.FICO_SCR, color=\"b\")\n",
    "plt.xlabel(\"# of Direct Mail contacts\")\n",
    "plt.ylabel(\"FICO SCORE\")\n",
    "plt.show()"
   ]
  },
  {
   "cell_type": "code",
   "execution_count": 3,
   "metadata": {},
   "outputs": [
    {
     "data": {
      "text/plain": [
       "<seaborn.axisgrid.FacetGrid at 0x7fa5cdd9d990>"
      ]
     },
     "execution_count": 3,
     "metadata": {},
     "output_type": "execute_result"
    },
    {
     "data": {
      "image/png": "[encoded data removed]",
      "text/plain": [
       "<matplotlib.figure.Figure at 0x7fa56db73290>"
      ]
     },
     "metadata": {},
     "output_type": "display_data"
    }
   ],
   "source": [
    "# Quick visualization of data relationships using seaborn visualization API\n",
    "import seaborn as sns\n",
    "sns.set_style('whitegrid')\n",
    "\n",
    "# allow plots to appear within the notebook\n",
    "%matplotlib inline\n",
    "\n",
    "# Using seabron to create a linear fit\n",
    "sns.lmplot('NO_DM_CNT','FICO_SCR', data = df)"
   ]
  },
  {
   "cell_type": "markdown",
   "metadata": {},
   "source": [
    "## Are you getting a lot of junk mails?  \n",
    "\n",
    "In this sample credit card data, there is a clear correlation between # of direct mail contacts and the high credit score customers.  This is a typical challenge for many credit-issuing companies to exhaust their marketing contacts for the highly credit-worthy customer population, while, in contrast, those highly profitable customer segments tend to get annoyed by this contact strategy, which usually lead into attrition or opt-out."
   ]
  },
  {
   "cell_type": "markdown",
   "metadata": {},
   "source": [
    "# LINEAR REGRESSION MODEL SETUP, TRAINING & ACCURACY CHECK"
   ]
  },
  {
   "cell_type": "markdown",
   "metadata": {},
   "source": [
    "### Below is an illustrative example of finding out how write-off response may be correlated with predictor (feature) variables by training a multi-variate linear regression model"
   ]
  },
  {
   "cell_type": "code",
   "execution_count": 4,
   "metadata": {},
   "outputs": [
    {
     "data": {
      "text/html": [
       "<div>\n",
       "<table border=\"1\" class=\"dataframe\">\n",
       "  <thead>\n",
       "    <tr style=\"text-align: right;\">\n",
       "      <th></th>\n",
       "      <th>﻿ACCT_NO</th>\n",
       "      <th>PROD</th>\n",
       "      <th>CURR_BAL</th>\n",
       "      <th>TENURE</th>\n",
       "      <th>CUST_INC</th>\n",
       "      <th>CUST_AGE</th>\n",
       "      <th>PMT_DUE</th>\n",
       "      <th>NO_DM_CNT</th>\n",
       "      <th>WRITE_OFF_IND</th>\n",
       "      <th>FICO_SCR</th>\n",
       "      <th>PROD_NO</th>\n",
       "    </tr>\n",
       "  </thead>\n",
       "  <tbody>\n",
       "    <tr>\n",
       "      <th>0</th>\n",
       "      <td>1291</td>\n",
       "      <td>1.REG</td>\n",
       "      <td>755.16</td>\n",
       "      <td>3.0</td>\n",
       "      <td>44212</td>\n",
       "      <td>46</td>\n",
       "      <td>60.41</td>\n",
       "      <td>5</td>\n",
       "      <td>1</td>\n",
       "      <td>651</td>\n",
       "      <td>1</td>\n",
       "    </tr>\n",
       "    <tr>\n",
       "      <th>1</th>\n",
       "      <td>1292</td>\n",
       "      <td>1.REG</td>\n",
       "      <td>276.61</td>\n",
       "      <td>0.7</td>\n",
       "      <td>86249</td>\n",
       "      <td>34</td>\n",
       "      <td>22.13</td>\n",
       "      <td>10</td>\n",
       "      <td>0</td>\n",
       "      <td>702</td>\n",
       "      <td>1</td>\n",
       "    </tr>\n",
       "    <tr>\n",
       "      <th>2</th>\n",
       "      <td>1293</td>\n",
       "      <td>2.GOLD</td>\n",
       "      <td>424.70</td>\n",
       "      <td>0.1</td>\n",
       "      <td>79474</td>\n",
       "      <td>45</td>\n",
       "      <td>21.23</td>\n",
       "      <td>22</td>\n",
       "      <td>0</td>\n",
       "      <td>753</td>\n",
       "      <td>2</td>\n",
       "    </tr>\n",
       "    <tr>\n",
       "      <th>3</th>\n",
       "      <td>1294</td>\n",
       "      <td>3.PLAT</td>\n",
       "      <td>11683.23</td>\n",
       "      <td>10.8</td>\n",
       "      <td>81198</td>\n",
       "      <td>58</td>\n",
       "      <td>584.16</td>\n",
       "      <td>22</td>\n",
       "      <td>0</td>\n",
       "      <td>763</td>\n",
       "      <td>3</td>\n",
       "    </tr>\n",
       "    <tr>\n",
       "      <th>4</th>\n",
       "      <td>1295</td>\n",
       "      <td>1.REG</td>\n",
       "      <td>246.34</td>\n",
       "      <td>5.5</td>\n",
       "      <td>63502</td>\n",
       "      <td>35</td>\n",
       "      <td>19.71</td>\n",
       "      <td>11</td>\n",
       "      <td>1</td>\n",
       "      <td>590</td>\n",
       "      <td>1</td>\n",
       "    </tr>\n",
       "  </tbody>\n",
       "</table>\n",
       "</div>"
      ],
      "text/plain": [
       "   ﻿ACCT_NO    PROD  CURR_BAL  TENURE  CUST_INC  CUST_AGE  PMT_DUE  NO_DM_CNT  \\\n",
       "0      1291   1.REG    755.16     3.0     44212        46    60.41          5   \n",
       "1      1292   1.REG    276.61     0.7     86249        34    22.13         10   \n",
       "2      1293  2.GOLD    424.70     0.1     79474        45    21.23         22   \n",
       "3      1294  3.PLAT  11683.23    10.8     81198        58   584.16         22   \n",
       "4      1295   1.REG    246.34     5.5     63502        35    19.71         11   \n",
       "\n",
       "   WRITE_OFF_IND  FICO_SCR PROD_NO  \n",
       "0              1       651       1  \n",
       "1              0       702       1  \n",
       "2              0       753       2  \n",
       "3              0       763       3  \n",
       "4              1       590       1  "
      ]
     },
     "execution_count": 4,
     "metadata": {},
     "output_type": "execute_result"
    }
   ],
   "source": [
    "# as a regression model needs numerical attributes, let's convert PROD into a numerical format\n",
    "\n",
    "df['PROD_NO'] = df.PROD.str.slice(0,1)\n",
    "df.head(5)"
   ]
  },
  {
   "cell_type": "code",
   "execution_count": 5,
   "metadata": {
    "collapsed": true
   },
   "outputs": [],
   "source": [
    "# IF YOU'D LIKE TO USE BUILT-IN SCIKIT-LEARN LABEL ENCODER, PLEASE RUN BELOW\n",
    "# converting PROD to numerical (0: 1.REG, 1: 2.GOLD, 2: 3.PLAT)\n",
    "\n",
    "#from sklearn.preprocessing import LabelEncoder\n",
    "\n",
    "#lenc = LabelEncoder()\n",
    "#lenc.fit(df['PROD'])\n",
    "\n",
    "#df['PROD_NO'] = lenc.transform(df['PROD'])\n",
    "\n",
    "#df.head(5)"
   ]
  },
  {
   "cell_type": "code",
   "execution_count": 6,
   "metadata": {
    "collapsed": true
   },
   "outputs": [],
   "source": [
    "# select a few numerical variables (predictors)\n",
    "\n",
    "feature_cols = [          \n",
    "    'CURR_BAL',                                               \n",
    "    'TENURE',                       \n",
    "    'CUST_INC',                      \n",
    "    'CUST_AGE',                                \n",
    "    'PMT_DUE',                                               \n",
    "    'NO_DM_CNT',               \n",
    "    'FICO_SCR',\n",
    "    'PROD_NO'\n",
    "]"
   ]
  },
  {
   "cell_type": "code",
   "execution_count": 7,
   "metadata": {},
   "outputs": [
    {
     "data": {
      "text/plain": [
       "(610, 8)"
      ]
     },
     "execution_count": 7,
     "metadata": {},
     "output_type": "execute_result"
    }
   ],
   "source": [
    "# create a feature matrix 'X' \n",
    "\n",
    "X = df[feature_cols]\n",
    "X.shape\n",
    "\n",
    "#print (type(X))\n",
    "# X.head()"
   ]
  },
  {
   "cell_type": "code",
   "execution_count": 8,
   "metadata": {},
   "outputs": [
    {
     "data": {
      "text/plain": [
       "(610,)"
      ]
     },
     "execution_count": 8,
     "metadata": {},
     "output_type": "execute_result"
    }
   ],
   "source": [
    "# create a response vector series 'y' \n",
    "y = df.WRITE_OFF_IND\n",
    "y.shape\n",
    "#y.dtypes"
   ]
  },
  {
   "cell_type": "code",
   "execution_count": 9,
   "metadata": {
    "collapsed": true
   },
   "outputs": [],
   "source": [
    "# if you need to upgrade scikit learn\n",
    "#!pip install --upgrade scikit-learn"
   ]
  },
  {
   "cell_type": "code",
   "execution_count": 10,
   "metadata": {
    "collapsed": true
   },
   "outputs": [],
   "source": [
    "# splitting in-sample training and test datasets\n",
    "\n",
    "from sklearn.model_selection import train_test_split\n",
    "X_train, X_test, y_train, y_test = train_test_split(X, y, test_size=0.3, random_state=1)"
   ]
  },
  {
   "cell_type": "code",
   "execution_count": 11,
   "metadata": {},
   "outputs": [
    {
     "name": "stdout",
     "output_type": "stream",
     "text": [
      "(427, 8)\n",
      "(427,)\n",
      "(183, 8)\n",
      "(183,)\n"
     ]
    }
   ],
   "source": [
    "# default split is 75% for training and 25% for testing; but chose above test size (test_size)\n",
    "print(X_train.shape)\n",
    "print(y_train.shape)\n",
    "print(X_test.shape)\n",
    "print(y_test.shape)"
   ]
  },
  {
   "cell_type": "code",
   "execution_count": 12,
   "metadata": {},
   "outputs": [
    {
     "data": {
      "text/plain": [
       "LinearRegression(copy_X=True, fit_intercept=True, n_jobs=1, normalize=False)"
      ]
     },
     "execution_count": 12,
     "metadata": {},
     "output_type": "execute_result"
    }
   ],
   "source": [
    "# import model\n",
    "from sklearn.linear_model import LinearRegression\n",
    "\n",
    "# instantiate\n",
    "linreg = LinearRegression()\n",
    "\n",
    "# fit the model to the training data (learn the coefficients)\n",
    "linreg.fit(X_train, y_train)"
   ]
  },
  {
   "cell_type": "code",
   "execution_count": 13,
   "metadata": {},
   "outputs": [
    {
     "name": "stdout",
     "output_type": "stream",
     "text": [
      "1.72703907024\n",
      "[ -1.67137480e-04  -5.41420238e-03  -1.25093552e-06  -8.06300068e-04\n",
      "   3.05661316e-03   7.71331257e-04  -2.63346867e-03   2.57614171e-01]\n"
     ]
    }
   ],
   "source": [
    "# print the intercept and coefficients\n",
    "print(linreg.intercept_)\n",
    "print(linreg.coef_)"
   ]
  },
  {
   "cell_type": "code",
   "execution_count": 14,
   "metadata": {},
   "outputs": [
    {
     "data": {
      "text/plain": [
       "[('CURR_BAL', -0.00016713747957377358),\n",
       " ('TENURE', -0.0054142023809906122),\n",
       " ('CUST_INC', -1.2509355181841361e-06),\n",
       " ('CUST_AGE', -0.00080630006840221968),\n",
       " ('PMT_DUE', 0.0030566131568174879),\n",
       " ('NO_DM_CNT', 0.0007713312572409501),\n",
       " ('FICO_SCR', -0.0026334686715588458),\n",
       " ('PROD_NO', 0.257614170611423)]"
      ]
     },
     "execution_count": 14,
     "metadata": {},
     "output_type": "execute_result"
    }
   ],
   "source": [
    "# pair the feature names with the coefficients\n",
    "list(zip(feature_cols, linreg.coef_))"
   ]
  },
  {
   "cell_type": "code",
   "execution_count": 15,
   "metadata": {},
   "outputs": [
    {
     "data": {
      "text/plain": [
       "array([ 0.25716965,  0.15726984,  0.25336168,  0.10463159,  0.31275379,\n",
       "        0.03441385, -0.14363823,  0.20787352,  0.2026911 ,  0.32504148,\n",
       "        0.33482854,  0.24330737,  0.1226208 ,  0.17317343,  0.10260369,\n",
       "        0.01012545,  0.01425215,  0.11230392,  0.19944144,  0.06771044,\n",
       "        0.20324533,  0.20161377,  0.16110821,  0.0623051 ,  0.44837685,\n",
       "        0.29356754,  0.14850782,  0.23160678,  0.03761416,  0.40753452,\n",
       "       -0.15359744,  0.16036299,  0.19524691,  0.0694225 ,  0.0809665 ,\n",
       "        0.20461945, -0.03642523,  0.38006493,  0.39894443,  0.15936492])"
      ]
     },
     "execution_count": 15,
     "metadata": {},
     "output_type": "execute_result"
    }
   ],
   "source": [
    "# make predictions on the sample testing set (observations 20 thru 60)\n",
    "y_pred = linreg.predict(X_test)\n",
    "y_pred[20:60]"
   ]
  },
  {
   "cell_type": "code",
   "execution_count": 16,
   "metadata": {},
   "outputs": [
    {
     "data": {
      "text/plain": [
       "(183,)"
      ]
     },
     "execution_count": 16,
     "metadata": {},
     "output_type": "execute_result"
    }
   ],
   "source": [
    "y_pred.shape"
   ]
  },
  {
   "cell_type": "markdown",
   "metadata": {},
   "source": [
    "## Three Accuracy Metrics:\n",
    "\n",
    "* MAE is the easiest to understand, because it's the average error.\n",
    "* MSE is more popular than MAE, because MSE \"punishes\" larger errors.\n",
    "* RMSE is even more popular than MSE, because RMSE is interpretable in the \"y\" units."
   ]
  },
  {
   "cell_type": "code",
   "execution_count": 17,
   "metadata": {},
   "outputs": [
    {
     "name": "stdout",
     "output_type": "stream",
     "text": [
      "MAE is: 0.248687138133\n",
      "MSE is: 0.117476468663\n",
      "RMSE is: 0.342748404319\n"
     ]
    }
   ],
   "source": [
    "# Computing metrics\n",
    "# RMSE is a typical metrics in linear regression model to show the amount of variance between observations and best-fitted line\n",
    "\n",
    "import numpy as np\n",
    "from sklearn import metrics\n",
    "\n",
    "print 'MAE is: {}'.format(metrics.mean_absolute_error(y_test, y_pred))\n",
    "print 'MSE is: {}'.format (metrics.mean_squared_error(y_test, y_pred))\n",
    "print 'RMSE is: {}'.format(np.sqrt(metrics.mean_squared_error(y_test, y_pred)))"
   ]
  },
  {
   "cell_type": "markdown",
   "metadata": {},
   "source": [
    "# Re-setting the threshold (changing the sensitivity)"
   ]
  },
  {
   "cell_type": "code",
   "execution_count": 18,
   "metadata": {},
   "outputs": [
    {
     "data": {
      "text/plain": [
       "array([ 0.,  0.,  0.,  0.,  1.,  0.,  1.,  1.,  0.,  0.,  1.,  0.,  1.,\n",
       "        0.,  0.,  0.,  1.,  1.,  0.,  0.,  1.,  0.,  1.,  0.,  1.,  0.,\n",
       "        0.,  0.,  0.,  1.,  1.,  0.,  0.,  0.,  0.,  0.,  0.,  0.,  0.,\n",
       "        0.,  0.,  0.,  0.,  0.,  1.,  1.,  0.,  0.,  0.,  1.,  0.,  0.,\n",
       "        0.,  0.,  0.,  0.,  0.,  1.,  1.,  0.,  0.,  0.,  0.,  0.,  0.,\n",
       "        1.,  0.,  0.,  0.,  0.,  0.,  0.,  0.,  0.,  1.,  0.,  0.,  1.,\n",
       "        0.,  0.,  0.,  1.,  1.,  0.,  0.,  1.,  0.,  0.,  1.,  1.,  0.,\n",
       "        1.,  1.,  0.,  0.,  0.,  0.,  0.,  0.,  0.,  1.,  1.,  0.,  0.,\n",
       "        0.,  0.,  0.,  0.,  0.,  0.,  0.,  0.,  0.,  0.,  1.,  0.,  0.,\n",
       "        0.,  0.,  0.,  1.,  0.,  0.,  1.,  1.,  0.,  0.,  0.,  0.,  0.,\n",
       "        0.,  0.,  1.,  0.,  1.,  0.,  0.,  0.,  1.,  0.,  1.,  0.,  1.,\n",
       "        0.,  0.,  0.,  0.,  1.,  0.,  1.,  0.,  0.,  0.,  0.,  1.,  0.,\n",
       "        0.,  0.,  0.,  1.,  0.,  0.,  0.,  0.,  0.,  1.,  0.,  0.,  0.,\n",
       "        1.,  0.,  1.,  0.,  1.,  0.,  0.,  0.,  0.,  0.,  0.,  0.,  0.,  1.])"
      ]
     },
     "execution_count": 18,
     "metadata": {},
     "output_type": "execute_result"
    }
   ],
   "source": [
    "# if you like to re-set the threshold; or changes the sensitivity for the target value (in this case, 0.25)\n",
    "# in other words, we are setting 0.25 (or 25% probability of the customer is going to be written-off) as a threshold \n",
    "\n",
    "# round or classify numpy array of y_pred with a specific threshold\n",
    "\n",
    "from sklearn.preprocessing import binarize\n",
    "y_pred_cl = binarize([y_pred], 0.25)[0]\n",
    "y_pred_cl"
   ]
  },
  {
   "cell_type": "code",
   "execution_count": 19,
   "metadata": {},
   "outputs": [
    {
     "name": "stdout",
     "output_type": "stream",
     "text": [
      "0.449650744856\n"
     ]
    }
   ],
   "source": [
    "# compute the RMSE for new threshold\n",
    "import numpy as np\n",
    "from sklearn import metrics\n",
    "\n",
    "print(np.sqrt(metrics.mean_squared_error(y_test, y_pred_cl)))"
   ]
  },
  {
   "cell_type": "markdown",
   "metadata": {},
   "source": [
    "## SUMMARY\n",
    "This illustrative python notebook shows how to get started with a simple machine learning utilizing linear regression modelling technique.  I hope you to see how easy to adopt IBM's Data Science Experience for your data analytics and modeling needs.  Please find overview and getting-started information in the Data Science Experience documentation: https://datascience.ibm.com/docs/content/getting-started/welcome-main.html. \n",
    "Learn about Jupyter notebooks, which are used throughout this scenario, in the Data Science Experience documentation: https://datascience.ibm.com/docs/content/analyze-data/notebooks-parent.html"
   ]
  }
 ],
 "metadata": {
  "kernelspec": {
   "display_name": "Python 2 with Spark 2.0",
   "language": "python",
   "name": "python2-spark20"
  },
  "language_info": {
   "codemirror_mode": {
    "name": "ipython",
    "version": 2
   },
   "file_extension": ".py",
   "mimetype": "text/x-python",
   "name": "python",
   "nbconvert_exporter": "python",
   "pygments_lexer": "ipython2",
   "version": "2.7.11"
  }
 },
 "nbformat": 4,
 "nbformat_minor": 1
}
